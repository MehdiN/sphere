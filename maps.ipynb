{
 "cells": [
  {
   "cell_type": "code",
   "execution_count": null,
   "metadata": {},
   "outputs": [],
   "source": [
    "import itertools\n",
    "import numpy as np\n",
    "import healpy as hp\n",
    "import sphere.distribution as sd\n",
    "\n",
    "from matplotlib import cm\n",
    "from matplotlib import pyplot as plt\n",
    "%matplotlib inline\n",
    "\n",
    "\n",
    "def sphe_to_cart(r, theta, phi):\n",
    "    x = r*np.sin(theta)*np.cos(phi)    \n",
    "    y = r*np.sin(theta)*np.sin(phi)\n",
    "    z  = r*np.cos(theta)\n",
    "\n",
    "    return x, y, z\n",
    "\n",
    "\n",
    "def sphe_to_kent(theta, phi):                                                                                                                                                                                                                 \n",
    "    \"\"\" shift x,y,z->x2,x3,x1 which is the coordinate system used in Kent 1982\n",
    "\n",
    "    return np.array((x1,x2,x3), ...) which is the format read-in by kent_distribution\n",
    "    \"\"\"\n",
    "    xyz = sphe_to_cart(1, theta, phi)\n",
    "    xs = np.asarray((xyz[2], xyz[0], xyz[1])).T\n",
    "    return xs\n",
    "\n",
    "\n",
    "def kent_map(kentobj, nside):\n",
    "    \"\"\"Returns a map of the kent distribution's pdf in the specified\n",
    "    coordinates                                                                                                                                                                                                                               \n",
    "    \"\"\"                                                                                                                                                                                                                                       \n",
    "    npix = hp.nside2npix(nside)\n",
    "    zen, azi = hp.pix2ang(nside, np.arange(npix))\n",
    "    return kentobj.pdf(sphe_to_kent(zen, azi))"
   ]
  },
  {
   "cell_type": "code",
   "execution_count": null,
   "metadata": {},
   "outputs": [],
   "source": [
    "etas = [-1,-0.8,0,0.8,1]\n",
    "betas = [0.1,1,5,10]\n",
    "kappas = [0.1,1,5,10]\n",
    "\n",
    "curr_kappa = 0\n",
    "curr_ax = 0\n",
    "for kappa, beta, eta in itertools.product(kappas, betas, etas):\n",
    "    kmap = kent_map(sd.kent(np.pi/2,0,0,kappa,beta,eta),64)\n",
    "    \n",
    "    vmap = cm.plasma\n",
    "    vmap.set_under('w')\n",
    "    vmap.set_bad('w')\n",
    "    if kappa != curr_kappa:\n",
    "        if curr_ax:\n",
    "            plt.savefig('fig/k{}.png'.format(curr_kappa),bbox_inches='tight')\n",
    "        fig, axes = plt.subplots(len(betas), len(etas), figsize=(7*len(etas),5*len(betas)), dpi=300)\n",
    "        flat_axes = axes.flatten()\n",
    "        curr_kappa = kappa\n",
    "        curr_ax = 0\n",
    "    plt.sca(flat_axes[curr_ax])\n",
    "    hp.mollview(kmap, title=r'$\\kappa={}$, $\\beta={}$, $\\eta={}$'.format(kappa,beta,eta),\n",
    "                min=0, max=np.round(np.nanmax(kmap),2),\n",
    "                cmap=vmap,hold=True,cbar=True,xsize=1600)\n",
    "    hp.graticule()\n",
    "    curr_ax+=1\n",
    "plt.savefig('fig/k{}.png'.format(kappa),bbox_inches='tight')"
   ]
  }
 ],
 "metadata": {
  "kernelspec": {
   "display_name": "Python 2",
   "language": "python",
   "name": "python2"
  },
  "language_info": {
   "codemirror_mode": {
    "name": "ipython",
    "version": 2
   },
   "file_extension": ".py",
   "mimetype": "text/x-python",
   "name": "python",
   "nbconvert_exporter": "python",
   "pygments_lexer": "ipython2",
   "version": "2.7.10"
  }
 },
 "nbformat": 4,
 "nbformat_minor": 2
}
