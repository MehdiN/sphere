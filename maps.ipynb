{
 "cells": [
  {
   "cell_type": "code",
   "execution_count": null,
   "metadata": {},
   "outputs": [],
   "source": [
    "import itertools\n",
    "import numpy as np\n",
    "import healpy as hp\n",
    "import sphere.distribution as sd\n",
    "\n",
    "from matplotlib import cm\n",
    "from matplotlib import pyplot as plt\n",
    "%matplotlib inline\n",
    "\n",
    "\n",
    "def sphe_to_cart(r, theta, phi):\n",
    "    x = r*np.sin(theta)*np.cos(phi)\n",
    "    y = r*np.sin(theta)*np.sin(phi)\n",
    "    z  = r*np.cos(theta)\n",
    "\n",
    "    return x, y, z\n",
    "\n",
    "\n",
    "def sphe_to_fb8(theta, phi):                                                                                                                                                                                                                 \n",
    "    \"\"\" shift x,y,z->x2,x3,x1 which is the coordinate system used in fb8 1982\n",
    "\n",
    "    return np.array((x1,x2,x3), ...) which is the format read-in by fb8_distribution\n",
    "    \"\"\"\n",
    "    xyz = sphe_to_cart(1, theta, phi)\n",
    "    xs = np.asarray((xyz[2], xyz[0], xyz[1])).T\n",
    "    return xs\n",
    "\n",
    "\n",
    "def fb8_map(fb8obj, nside):\n",
    "    \"\"\"Returns a map of the fb8 distribution's pdf in the specified\n",
    "    coordinates                                                                                                                                                                                                                               \n",
    "    \"\"\"                                                                                                                                                                                                                                       \n",
    "    npix = hp.nside2npix(nside)\n",
    "    zen, azi = hp.pix2ang(nside, np.arange(npix))\n",
    "    return fb8obj.pdf(sphe_to_fb8(zen, azi))\n",
    "\n",
    "def plot_map(theta,phi,psi,kappa,beta,eta,alpha,rho, nside=64):\n",
    "    pdf = sd.fb8(theta,phi,psi,kappa,beta,eta,alpha,rho)\n",
    "    kmap = fb8_map(pdf,nside)\n",
    "    thetas, phis = pdf.contour()\n",
    "    \n",
    "    vmap = cm.plasma\n",
    "    vmap.set_under('w')\n",
    "    vmap.set_bad('w')\n",
    "    hp.mollview(kmap, title=r'$\\kappa={}$, $\\beta={}$, $\\eta={}$, $\\alpha={:.2f}$'.format(kappa,beta,eta,alpha),\n",
    "                min=0, max=np.round(np.nanmax(kmap),2),\n",
    "                cmap=vmap,hold=True,cbar=True,xsize=1600)\n",
    "    hp.graticule()\n",
    "    hp.projplot(thetas, phis, '.', markersize=2)\n",
    "\n",
    "#plot_map(np.pi/2,0,0,0.1,0.1,-1,0.1,0.)\n",
    "plot_map(np.pi/2, 0, 0, 19.82, 5.69, 1.00, 1.58, -1.65)"
   ]
  },
  {
   "cell_type": "code",
   "execution_count": null,
   "metadata": {},
   "outputs": [],
   "source": [
    "etas = [-1,-0.8,1]\n",
    "alphas = [0,np.pi/4, np.pi/2]\n",
    "betas = [1,5,10]\n",
    "kappas = [1,5,10]\n",
    "\n",
    "curr_kappa = 0\n",
    "curr_ax = 0\n",
    "for kappa, beta, eta, alpha in itertools.product(kappas, betas, etas, alphas):\n",
    "    if kappa != curr_kappa:\n",
    "        if curr_ax:\n",
    "            plt.savefig('fig/k{}.png'.format(curr_kappa),bbox_inches='tight')\n",
    "        fig, axes = plt.subplots(len(betas)*len(etas), len(alphas), figsize=(7*len(alphas),5*len(betas)*len(etas)), dpi=300)\n",
    "        flat_axes = axes.flatten()\n",
    "        curr_kappa = kappa\n",
    "        curr_ax = 0\n",
    "    plt.sca(flat_axes[curr_ax])\n",
    "    plot_map(np.pi/2,0,0,kappa,beta,eta,alpha,0)\n",
    "    curr_ax+=1\n",
    "plt.savefig('fig/k{}.png'.format(kappa),bbox_inches='tight')"
   ]
  },
  {
   "cell_type": "code",
   "execution_count": null,
   "metadata": {},
   "outputs": [],
   "source": [
    "for k, b, m in itertools.product(np.arange(0.1,41, 20),\n",
    "                                 np.arange(0.1,41, 20),\n",
    "                                 np.arange(-1, 1, 0.4)):\n",
    "    nquad = sd.fb8(np.pi/2,0,0,k,b,m,1e-12,0.).normalize()\n",
    "    nsum = sd.fb8(np.pi/2,0,0,k,b,m,0,0.).normalize()\n",
    "    if (nquad-nsum)/nquad > 0.01:\n",
    "        print k, b, m\n",
    "        print nquad, nsum"
   ]
  },
  {
   "cell_type": "code",
   "execution_count": null,
   "metadata": {},
   "outputs": [],
   "source": []
  }
 ],
 "metadata": {
  "kernelspec": {
   "display_name": "Python 2",
   "language": "python",
   "name": "python2"
  },
  "language_info": {
   "codemirror_mode": {
    "name": "ipython",
    "version": 2
   },
   "file_extension": ".py",
   "mimetype": "text/x-python",
   "name": "python",
   "nbconvert_exporter": "python",
   "pygments_lexer": "ipython2",
   "version": "2.7.10"
  }
 },
 "nbformat": 4,
 "nbformat_minor": 2
}
